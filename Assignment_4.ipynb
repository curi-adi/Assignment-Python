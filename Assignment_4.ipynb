{
  "nbformat": 4,
  "nbformat_minor": 0,
  "metadata": {
    "colab": {
      "provenance": []
    },
    "kernelspec": {
      "name": "python3",
      "display_name": "Python 3"
    },
    "language_info": {
      "name": "python"
    }
  },
  "cells": [
    {
      "cell_type": "markdown",
      "source": [
        "Q1: What exactly is []?\n",
        "\n",
        "A: The empty square brackets, [], represent an empty list in Python. A list is a data structure that can hold an ordered collection of items or values. When the square brackets contain no elements, it indicates that the list is empty."
      ],
      "metadata": {
        "id": "g_TN-CG_fE4s"
      }
    },
    {
      "cell_type": "markdown",
      "source": [
        "Q2: In a list of values stored in a variable called spam, how would you assign the value 'hello' as the third value? (Assume [2, 4, 6, 8, 10] are in spam.)\n",
        "\n",
        "A: You can assign the value 'hello' as the third value in the list by using the indexing and assignment operation. Here's the code:"
      ],
      "metadata": {
        "id": "RQG1gmBBfE1W"
      }
    },
    {
      "cell_type": "code",
      "source": [
        "spam = [2, 4, 6, 8, 10]\n",
        "spam[2] = 'hello'\n",
        "\n",
        "spam\n"
      ],
      "metadata": {
        "colab": {
          "base_uri": "https://localhost:8080/"
        },
        "id": "KVGJ-g2UfSux",
        "outputId": "84c7807f-010c-467b-b8d5-3e5c949a433e"
      },
      "execution_count": 3,
      "outputs": [
        {
          "output_type": "execute_result",
          "data": {
            "text/plain": [
              "[2, 4, 'hello', 8, 10]"
            ]
          },
          "metadata": {},
          "execution_count": 3
        }
      ]
    },
    {
      "cell_type": "markdown",
      "source": [
        "Q3: What is the value of spam[int(int('3' * 2) / 11)]?"
      ],
      "metadata": {
        "id": "GIx3MvFIfEyw"
      }
    },
    {
      "cell_type": "code",
      "source": [
        "spam[int(int('3' * 2) / 11)]"
      ],
      "metadata": {
        "colab": {
          "base_uri": "https://localhost:8080/"
        },
        "id": "WfJbgM7PfzpS",
        "outputId": "31c46526-3c06-4bf5-b52d-265f91a85f98"
      },
      "execution_count": 4,
      "outputs": [
        {
          "output_type": "execute_result",
          "data": {
            "text/plain": [
              "8"
            ]
          },
          "metadata": {},
          "execution_count": 4
        }
      ]
    },
    {
      "cell_type": "markdown",
      "source": [
        "Q: What is the value of spam[-1]?\n"
      ],
      "metadata": {
        "id": "1uVbEx_ffEwM"
      }
    },
    {
      "cell_type": "code",
      "source": [
        "spam[-1]"
      ],
      "metadata": {
        "colab": {
          "base_uri": "https://localhost:8080/"
        },
        "id": "VmkPVs8cf_dm",
        "outputId": "6f765c9a-d5a6-4cd6-f7c0-1a4adc05e08b"
      },
      "execution_count": 5,
      "outputs": [
        {
          "output_type": "execute_result",
          "data": {
            "text/plain": [
              "10"
            ]
          },
          "metadata": {},
          "execution_count": 5
        }
      ]
    },
    {
      "cell_type": "markdown",
      "source": [
        "Q5. What is the value of spam[:2]?"
      ],
      "metadata": {
        "id": "LSM1HYnEfEte"
      }
    },
    {
      "cell_type": "code",
      "source": [
        "spam[:2]"
      ],
      "metadata": {
        "colab": {
          "base_uri": "https://localhost:8080/"
        },
        "id": "31zSKd3DgHiG",
        "outputId": "4960976b-c1b6-4c0b-b285-15d1cce18b2e"
      },
      "execution_count": 6,
      "outputs": [
        {
          "output_type": "execute_result",
          "data": {
            "text/plain": [
              "[2, 4]"
            ]
          },
          "metadata": {},
          "execution_count": 6
        }
      ]
    },
    {
      "cell_type": "code",
      "source": [
        "bacon = [3.14, 'cat' ,11, 'cat', True]"
      ],
      "metadata": {
        "id": "V9oX6YYggV7t"
      },
      "execution_count": 9,
      "outputs": []
    },
    {
      "cell_type": "markdown",
      "source": [
        "Q6.What is the value of bacon.index('cat')?"
      ],
      "metadata": {
        "id": "0vZCiBUWfEqz"
      }
    },
    {
      "cell_type": "code",
      "source": [
        " bacon.index('cat')"
      ],
      "metadata": {
        "colab": {
          "base_uri": "https://localhost:8080/"
        },
        "id": "Yh-b2f8hgyCF",
        "outputId": "86e474a0-983b-4df2-a0ff-7700cccdd54b"
      },
      "execution_count": 10,
      "outputs": [
        {
          "output_type": "execute_result",
          "data": {
            "text/plain": [
              "1"
            ]
          },
          "metadata": {},
          "execution_count": 10
        }
      ]
    },
    {
      "cell_type": "markdown",
      "source": [
        "Q7: How does bacon.append(99) change the look of the list value in bacon?"
      ],
      "metadata": {
        "id": "wSiseWSNfEoG"
      }
    },
    {
      "cell_type": "code",
      "source": [
        "bacon.append(99)"
      ],
      "metadata": {
        "id": "yNJgSJp7g7eE"
      },
      "execution_count": 11,
      "outputs": []
    },
    {
      "cell_type": "code",
      "source": [
        "bacon"
      ],
      "metadata": {
        "colab": {
          "base_uri": "https://localhost:8080/"
        },
        "id": "emTGsevug-_E",
        "outputId": "45ad8915-c882-4720-decc-af43a649dc50"
      },
      "execution_count": 12,
      "outputs": [
        {
          "output_type": "execute_result",
          "data": {
            "text/plain": [
              "[3.14, 'cat', 11, 'cat', True, 99]"
            ]
          },
          "metadata": {},
          "execution_count": 12
        }
      ]
    },
    {
      "cell_type": "markdown",
      "source": [
        "Q8.How does bacon.remove('cat') change the look of the list in bacon?"
      ],
      "metadata": {
        "id": "mrbb4qbuhFZt"
      }
    },
    {
      "cell_type": "code",
      "source": [
        "bacon.remove('cat') "
      ],
      "metadata": {
        "id": "YzFIlh5qhE_s"
      },
      "execution_count": 13,
      "outputs": []
    },
    {
      "cell_type": "code",
      "source": [
        "bacon"
      ],
      "metadata": {
        "colab": {
          "base_uri": "https://localhost:8080/"
        },
        "id": "U5Ceqaj_hK7b",
        "outputId": "3b398280-af90-4868-b12d-31b3c67d1a2e"
      },
      "execution_count": 14,
      "outputs": [
        {
          "output_type": "execute_result",
          "data": {
            "text/plain": [
              "[3.14, 11, 'cat', True, 99]"
            ]
          },
          "metadata": {},
          "execution_count": 14
        }
      ]
    },
    {
      "cell_type": "markdown",
      "source": [
        "Q9.What are the list concatenation and list replication operators?\n",
        "\n",
        "A: The list concatenation operator is '+', which allows you to combine two lists into a single list"
      ],
      "metadata": {
        "id": "BJOnUcVTfEle"
      }
    },
    {
      "cell_type": "code",
      "source": [
        "[1, 2, 3] + [4, 5, 6] \n"
      ],
      "metadata": {
        "colab": {
          "base_uri": "https://localhost:8080/"
        },
        "id": "_nKGpE5khjvQ",
        "outputId": "9482e24d-0c9c-4dbf-c05f-a25cea592aed"
      },
      "execution_count": 16,
      "outputs": [
        {
          "output_type": "execute_result",
          "data": {
            "text/plain": [
              "[1, 2, 3, 4, 5, 6]"
            ]
          },
          "metadata": {},
          "execution_count": 16
        }
      ]
    },
    {
      "cell_type": "markdown",
      "source": [
        "The list replication operator is '*', which allows you to create a new list by repeating an existing list a certain number of times. "
      ],
      "metadata": {
        "id": "GxTOSc2HfEir"
      }
    },
    {
      "cell_type": "code",
      "source": [
        "[1, 2, 3] * 3"
      ],
      "metadata": {
        "colab": {
          "base_uri": "https://localhost:8080/"
        },
        "id": "4RlKNfKihp_6",
        "outputId": "2f7f4507-6713-4cef-a45c-b70298041fd9"
      },
      "execution_count": 17,
      "outputs": [
        {
          "output_type": "execute_result",
          "data": {
            "text/plain": [
              "[1, 2, 3, 1, 2, 3, 1, 2, 3]"
            ]
          },
          "metadata": {},
          "execution_count": 17
        }
      ]
    },
    {
      "cell_type": "markdown",
      "source": [
        "Q10: What is the difference between the list methods append() and insert()?\n",
        "\n",
        "\n",
        "A: The append() method is used to add an element to the end of a list, while the insert() method is used to insert an element at a specific position in a list. The append() method always adds the element at the end, whereas the insert() method allows you to specify the index where you want to insert the element."
      ],
      "metadata": {
        "id": "tWB8suw3fEgC"
      }
    },
    {
      "cell_type": "markdown",
      "source": [
        "Q11: What are the two methods for removing items from a list?\n",
        "\n",
        "A: The two methods for removing items from a list are:\n",
        "\n",
        "The remove() method: It removes the first occurrence of a specified value from the list.\n",
        "The pop() method: It removes and returns an element at a specific index in the list. If no index is provided, it removes and returns the last element."
      ],
      "metadata": {
        "id": "uZjhjPNffEdJ"
      }
    },
    {
      "cell_type": "markdown",
      "source": [
        "Q12 Describe how list values and string values are identical.\n",
        "\n",
        "\n",
        "A: List values and string values are both sequences in Python. They share the following similarities:\n",
        "\n",
        "Both can be indexed and sliced to access individual elements or sub-elements.\n",
        "They support the len() function to determine the length of the sequence.\n",
        "They can be concatenated using the '+' operator to create a new sequence.\n",
        "They can be iterated over using loops."
      ],
      "metadata": {
        "id": "2cQ5Pa7gfEai"
      }
    },
    {
      "cell_type": "markdown",
      "source": [
        "Q13.What's the difference between tuples and lists?\n",
        "\n",
        "\n",
        "A: The main differences between tuples and lists are as follows:\n",
        "\n",
        "Tuples are immutable, meaning their elements cannot be changed after creation, while lists are mutable and allow modifications.\n",
        "\n",
        "Tuples are typically used for heterogeneous data, where each element may have a different meaning, while lists are used for homogeneous data.\n",
        "\n",
        "Tuples are represented using parentheses (), whereas lists are represented using square brackets []."
      ],
      "metadata": {
        "id": "n-BJ0KgCi1vo"
      }
    },
    {
      "cell_type": "markdown",
      "source": [
        "Q14: How do you type a tuple value that only contains the integer 42?\n",
        "\n",
        "A: To create a tuple value containing only the integer 42, you can use the following syntax:"
      ],
      "metadata": {
        "id": "VR3n85-4jEhY"
      }
    },
    {
      "cell_type": "code",
      "execution_count": 18,
      "metadata": {
        "id": "wUay8hL2e3cr"
      },
      "outputs": [],
      "source": [
        "my_tuple = (42,)\n"
      ]
    },
    {
      "cell_type": "markdown",
      "source": [
        "Q15: How do you get a list value's tuple form? How do you get a tuple value's list form?\n",
        "A: To get a list value's tuple form, you can use the tuple() function. "
      ],
      "metadata": {
        "id": "ACLVXTkHjMHK"
      }
    },
    {
      "cell_type": "code",
      "source": [
        "my_list = [1, 2, 3]\n",
        "my_tuple = tuple(my_list)\n"
      ],
      "metadata": {
        "id": "wzSL99R4jGru"
      },
      "execution_count": 19,
      "outputs": []
    },
    {
      "cell_type": "markdown",
      "source": [
        "Q16. Variables that \"contain\" list values are not necessarily lists themselves. Instead, what do they contain?\n",
        "\n",
        "\n",
        "A: Variables that \"contain\" list values in Python are actually referencing the list objects rather than containing them directly.\n",
        "\n",
        " The variables store references or pointers to the memory locations where the lists are stored. This allows multiple variables to refer to the same list object, and modifications made to the list through one variable will be visible through other variables that reference the same list."
      ],
      "metadata": {
        "id": "ytLnJl2QjbwZ"
      }
    },
    {
      "cell_type": "markdown",
      "source": [
        "Q17: How do you distinguish between copy.copy() and copy.deepcopy()?\n",
        "\n",
        "\n",
        "A: The copy.copy() function and copy.deepcopy() function are used to create copies of objects in Python. The main difference between them is how they handle nested objects or objects with references.\n",
        "\n",
        "copy.copy(): It creates a shallow copy of an object. If the object being copied contains references to other objects, the shallow copy creates a new object with references to the same nested objects. In other words, it creates a new object, but the nested objects are still shared between the original and copied objects.\n",
        "\n",
        "\n",
        "copy.deepcopy(): It creates a deep copy of an object. It recursively copies all the objects found in the original object, including nested objects, creating entirely separate copies. The copied object and its nested objects are independent of the original object and its nested objects.\n",
        "\n",
        "\n",
        "In summary, copy.copy() creates a new object with references to the same nested objects, while copy.deepcopy() creates entirely independent copies of all objects, including nested objects."
      ],
      "metadata": {
        "id": "0Q9-PNMojk9Q"
      }
    },
    {
      "cell_type": "code",
      "source": [],
      "metadata": {
        "id": "HcZv8opajRpb"
      },
      "execution_count": null,
      "outputs": []
    }
  ]
}