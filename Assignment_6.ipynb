{
  "nbformat": 4,
  "nbformat_minor": 0,
  "metadata": {
    "colab": {
      "provenance": []
    },
    "kernelspec": {
      "name": "python3",
      "display_name": "Python 3"
    },
    "language_info": {
      "name": "python"
    }
  },
  "cells": [
    {
      "cell_type": "markdown",
      "source": [
        "Q1: What are keywords in Python? Using the keyword library, print all the Python keywords.\n",
        "\n",
        "\n",
        "A: Keywords in Python are reserved words that have special meanings and purposes within the language. \n",
        "\n",
        "They cannot be used as variable names or identifiers. Python provides a library called keyword that allows us to access and print all the keywords. "
      ],
      "metadata": {
        "id": "qv71dVdCmiE1"
      }
    },
    {
      "cell_type": "code",
      "execution_count": 1,
      "metadata": {
        "colab": {
          "base_uri": "https://localhost:8080/"
        },
        "id": "DPRDBNfYmCoy",
        "outputId": "a6f3df83-c34c-43f2-e40e-dc85775a1470"
      },
      "outputs": [
        {
          "output_type": "stream",
          "name": "stdout",
          "text": [
            "['False', 'None', 'True', 'and', 'as', 'assert', 'async', 'await', 'break', 'class', 'continue', 'def', 'del', 'elif', 'else', 'except', 'finally', 'for', 'from', 'global', 'if', 'import', 'in', 'is', 'lambda', 'nonlocal', 'not', 'or', 'pass', 'raise', 'return', 'try', 'while', 'with', 'yield']\n"
          ]
        }
      ],
      "source": [
        "import keyword\n",
        "\n",
        "all_keywords = keyword.kwlist\n",
        "print(all_keywords)\n"
      ]
    },
    {
      "cell_type": "markdown",
      "source": [
        "Q2: What are the rules to create variables in Python?\n",
        "\n",
        "A: The rules to create variables in Python are as follows:\n",
        "\n",
        "Variable names must start with a letter or an underscore (_).\n",
        "\n",
        "The rest of the variable name can contain letters, digits, and underscores.\n",
        "\n",
        "Variable names are case-sensitive, so myVar and myvar are different variables.\n",
        "\n",
        "Python keywords cannot be used as variable names.\n",
        "\n",
        "Avoid using built-in function names as variable names to prevent conflicts."
      ],
      "metadata": {
        "id": "Cv9giaNKmMdY"
      }
    },
    {
      "cell_type": "markdown",
      "source": [
        "Q3: What are the standards and conventions followed for the nomenclature of variables in Python to improve code readability and maintainability?\n",
        "\n",
        "\n",
        "A: In Python, the standard convention for variable naming is to use lowercase letters and separate words with underscores (snake_case). This convention is called \"snake_case.\" It improves code readability by making variable names more descriptive and easier to understand. \n",
        "\n",
        "For ex: my_variable, total_count."
      ],
      "metadata": {
        "id": "fi17Uxqcmz8C"
      }
    },
    {
      "cell_type": "markdown",
      "source": [
        "Q4: What will happen if a keyword is used as a variable name?\n",
        "\n",
        "\n",
        "A: If a keyword is used as a variable name, it will result in a syntax error. Python treats keywords as reserved words with specific meanings, so they cannot be used as identifiers or variable names."
      ],
      "metadata": {
        "id": "V6JTTuW2mMjX"
      }
    },
    {
      "cell_type": "markdown",
      "source": [
        "Q5: For what purpose is the def keyword used?\n",
        "\n",
        "A: The def keyword is used in Python to define a function. When def is followed by a valid function name and parentheses, it indicates the start of a function definition block."
      ],
      "metadata": {
        "id": "2ED1XPIbmMmD"
      }
    },
    {
      "cell_type": "markdown",
      "source": [
        "Q6: What is the operation of the special character '\\\\'?\n",
        "\n",
        "A: In Python, the backslash ('\\\\') is known as the escape character. It is used to escape special characters and indicate special interpretations of subsequent characters. For example, \\n represents a newline character, \\t represents a tab character, \\\" represents a double quote within a string, etc."
      ],
      "metadata": {
        "id": "VTHTjbvhmMqC"
      }
    },
    {
      "cell_type": "markdown",
      "source": [
        "Q7: Give an example of the following conditions:\n",
        "\n",
        "\n",
        "(i) Homogeneous list\n",
        "\n",
        "(ii) Heterogeneous set\n",
        "\n",
        "(iii) Homogeneous tuple\n",
        "\n",
        "A: Examples:\n",
        "\n",
        "(i) Homogeneous list:\n",
        "\n",
        "A list containing elements of the same type:\n",
        "\n",
        "numbers = [1, 2, 3, 4, 5]\n",
        "\n",
        "(ii) Heterogeneous set:\n",
        "\n",
        "A set containing elements of different types:\n",
        "\n",
        " my_set = {1, 'apple', True, 3.14}\n",
        "\n",
        "(iii) Homogeneous tuple:\n",
        "\n",
        "A tuple containing elements of the same type:\n",
        "\n",
        "coordinates = (10, 20, 30)"
      ],
      "metadata": {
        "id": "XxhF3oMkmMss"
      }
    },
    {
      "cell_type": "markdown",
      "source": [
        "Q8: Explain mutable and immutable data types with proper explanation and examples.\n",
        "\n",
        "A: In Python, mutable data types are those that can be modified after creation, while immutable data types cannot be modified once they are created.\n",
        "\n",
        "\n",
        "Examples of mutable data types:\n",
        "\n",
        "\n",
        "Lists: You can add, remove, or modify elements within a list.\n",
        "\n",
        "Dictionaries: You can add, remove, or update key-value pairs in a dictionary."
      ],
      "metadata": {
        "id": "ewD1pNkjmMvC"
      }
    },
    {
      "cell_type": "code",
      "source": [
        "my_list = [1, 2, 3]\n",
        "my_list.append(4)  # Modifying the list by adding an element\n",
        "\n",
        "my_dict = {'name': 'John', 'age': 30}\n",
        "my_dict['age'] = 31  # Modifying the value associated with a key\n"
      ],
      "metadata": {
        "id": "_msdfJkOnmEq"
      },
      "execution_count": 2,
      "outputs": []
    },
    {
      "cell_type": "markdown",
      "source": [
        "Examples of immutable data types:\n",
        "\n",
        "Strings: Once a string is created, you cannot change its characters.\n",
        "\n",
        "Tuples: Once a tuple is created, you cannot add, remove, or modify its elements."
      ],
      "metadata": {
        "id": "42gHxm4ymMyL"
      }
    },
    {
      "cell_type": "code",
      "source": [
        "my_string = 'Hello'\n",
        "new_string = my_string + ' World'  # Creating a new string instead of modifying the original\n",
        "\n",
        "my_tuple = (1, 2, 3)\n",
        "# Trying to modify the tuple will result in an error\n"
      ],
      "metadata": {
        "id": "c0HGR6lJnspJ"
      },
      "execution_count": 3,
      "outputs": []
    },
    {
      "cell_type": "markdown",
      "source": [
        "Q.9. Write a code to create the given structure using only for loop.\n",
        "\n"
      ],
      "metadata": {
        "id": "_Oxcjc5ymM1O"
      }
    },
    {
      "cell_type": "code",
      "source": [
        "'''\n",
        "*\n",
        "***\n",
        "*****\n",
        "*******\n",
        "*********\n",
        "'''"
      ],
      "metadata": {
        "colab": {
          "base_uri": "https://localhost:8080/",
          "height": 35
        },
        "id": "R6OPqQWxoJPY",
        "outputId": "c3c9f51e-7ac0-4794-fbd6-e13e8d53a041"
      },
      "execution_count": 7,
      "outputs": [
        {
          "output_type": "execute_result",
          "data": {
            "text/plain": [
              "'\\n*\\n***\\n*****\\n*******\\n*********\\n'"
            ],
            "application/vnd.google.colaboratory.intrinsic+json": {
              "type": "string"
            }
          },
          "metadata": {},
          "execution_count": 7
        }
      ]
    },
    {
      "cell_type": "code",
      "source": [
        "for i in range(1, 6):\n",
        "    for j in range(i):\n",
        "        print(\"*\", end=\"\")\n",
        "    print()\n"
      ],
      "metadata": {
        "colab": {
          "base_uri": "https://localhost:8080/"
        },
        "id": "3DG_EXlqoV1x",
        "outputId": "72c2673e-2dcf-4f7d-e96a-2330e2f6bb48"
      },
      "execution_count": 5,
      "outputs": [
        {
          "output_type": "stream",
          "name": "stdout",
          "text": [
            "*\n",
            "**\n",
            "***\n",
            "****\n",
            "*****\n"
          ]
        }
      ]
    },
    {
      "cell_type": "markdown",
      "source": [],
      "metadata": {
        "id": "jXmA5OtJmM4V"
      }
    },
    {
      "cell_type": "code",
      "source": [
        "# Q8.Write a code to create the given structure using while loop.\n",
        "'''\n",
        "|||||||||\n",
        "|||||||\n",
        "|||||\n",
        "|||\n",
        "|\n",
        "'''"
      ],
      "metadata": {
        "colab": {
          "base_uri": "https://localhost:8080/",
          "height": 35
        },
        "id": "FRg2o4d3ohcl",
        "outputId": "78dde98e-a12c-47b9-916a-ce4d074a9379"
      },
      "execution_count": 9,
      "outputs": [
        {
          "output_type": "execute_result",
          "data": {
            "text/plain": [
              "'\\n|||||||||\\n|||||||\\n|||||\\n|||\\n|\\n'"
            ],
            "application/vnd.google.colaboratory.intrinsic+json": {
              "type": "string"
            }
          },
          "metadata": {},
          "execution_count": 9
        }
      ]
    },
    {
      "cell_type": "code",
      "source": [
        "rows = 5\n",
        "count = rows\n",
        "\n",
        "while count >= 1:\n",
        "    print(\"|\" * (2 * count - 1))\n",
        "    count -= 1\n"
      ],
      "metadata": {
        "colab": {
          "base_uri": "https://localhost:8080/"
        },
        "id": "NH-wPOilohNg",
        "outputId": "65aaa643-adfa-45ca-c39e-871fa7e11172"
      },
      "execution_count": 10,
      "outputs": [
        {
          "output_type": "stream",
          "name": "stdout",
          "text": [
            "|||||||||\n",
            "|||||||\n",
            "|||||\n",
            "|||\n",
            "|\n"
          ]
        }
      ]
    },
    {
      "cell_type": "markdown",
      "source": [],
      "metadata": {
        "id": "7LKqMibumM-M"
      }
    }
  ]
}