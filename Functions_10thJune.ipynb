{
  "nbformat": 4,
  "nbformat_minor": 0,
  "metadata": {
    "colab": {
      "provenance": []
    },
    "kernelspec": {
      "name": "python3",
      "display_name": "Python 3"
    },
    "language_info": {
      "name": "python"
    }
  },
  "cells": [
    {
      "cell_type": "markdown",
      "source": [
        "**Q1. In Python, what is the difference between a built-in function and a user-defined function? Provide an example of each.**\n",
        "\n",
        "Ans: A built-in function is a function that is already defined in the Python language. For example, the print() function is a built-in function.\n",
        "\n",
        " A user-defined function is a function that you define yourself. For example,the following code defines user defined function."
      ],
      "metadata": {
        "id": "xT4-YxNV2DIn"
      }
    },
    {
      "cell_type": "code",
      "execution_count": 1,
      "metadata": {
        "colab": {
          "base_uri": "https://localhost:8080/"
        },
        "id": "G5gGLs3q13-r",
        "outputId": "96b64165-4567-4644-99a1-fdb605ca0cf6"
      },
      "outputs": [
        {
          "output_type": "stream",
          "name": "stdout",
          "text": [
            "3\n"
          ]
        }
      ],
      "source": [
        "def add_numbers(a, b):\n",
        "  \"\"\"Adds two numbers together.\"\"\"\n",
        "  return a + b\n",
        "\n",
        "print(add_numbers(1, 2))\n"
      ]
    },
    {
      "cell_type": "markdown",
      "source": [
        "**Q2. How can you pass arguments to a function in Python? Explain the difference between positional arguments and keyword arguments.**\n",
        "\n",
        "Ans:There are two ways to pass arguments to a function in Python: positional arguments and keyword arguments.\n",
        "Positional arguments are the arguments that are passed to a function in the order that they are defined.\n",
        "\n",
        " Keyword arguments are the arguments that are passed to a function by name."
      ],
      "metadata": {
        "id": "oudp2xCu2dBc"
      }
    },
    {
      "cell_type": "markdown",
      "source": [
        "**Q3. What is the purpose of the return statement in a function? Can a function have multiple return statements? Explain with an example.**\n",
        "\n",
        "Ans:The return statement is used to exit a function and return a value. A function can only have one return statement, but it can return multiple values by using the tuple() function.\n",
        "\n",
        "For example, check the following code"
      ],
      "metadata": {
        "id": "IkyyGepq2yvZ"
      }
    },
    {
      "cell_type": "code",
      "source": [
        "def get_student_info(student_id):\n",
        "    # Fetch student information from a database or other data source\n",
        "    # For the sake of this example, we'll use dummy data\n",
        "    if student_id == 1:\n",
        "        name = \"Aditya\"\n",
        "        age = 20\n",
        "        grade = \"A\"\n",
        "    elif student_id == 2:\n",
        "        name = \"Akash\"\n",
        "        age = 19\n",
        "        grade = \"B\"\n",
        "    else:\n",
        "        return None\n",
        "\n",
        "    return (name, age, grade)\n",
        "\n",
        "student_info = get_student_info(1)\n",
        "if student_info is not None:\n",
        "    name, age, grade = student_info\n",
        "    print(f\"Name: {name}, Age: {age}, Grade: {grade}\")\n",
        "else:\n",
        "    print(\"Student not found.\")\n"
      ],
      "metadata": {
        "colab": {
          "base_uri": "https://localhost:8080/"
        },
        "id": "3IU4qt002V1m",
        "outputId": "937b705c-238b-4cd7-9ee8-a8a92ff79fc3"
      },
      "execution_count": 5,
      "outputs": [
        {
          "output_type": "stream",
          "name": "stdout",
          "text": [
            "Name: Aditya, Age: 20, Grade: A\n"
          ]
        }
      ]
    },
    {
      "cell_type": "markdown",
      "source": [
        "**Q4. What are lambda functions in Python? How are they different from regular functions? Provide an example where a lambda function can be useful.**\n",
        "\n",
        "Ans: lambda function is a small, anonymous function that can be used in a single expression. Lambda functions are defined using the lambda keyword, followed by the parameters of the function, followed by the body of the function. The body of the lambda function is a single expression.\n",
        "\n",
        "For ex,the following code:\n",
        "\n"
      ],
      "metadata": {
        "id": "tMMhJz1D4FiJ"
      }
    },
    {
      "cell_type": "code",
      "source": [
        "double = lambda x:x*2\n",
        "\n",
        "print(double(10))"
      ],
      "metadata": {
        "colab": {
          "base_uri": "https://localhost:8080/"
        },
        "id": "eAav6Eds3Z8k",
        "outputId": "36fa53ea-57c9-400b-f346-8c7fe5315aaa"
      },
      "execution_count": 7,
      "outputs": [
        {
          "output_type": "stream",
          "name": "stdout",
          "text": [
            "20\n"
          ]
        }
      ]
    },
    {
      "cell_type": "markdown",
      "source": [
        "**Q5.What is the difference between the \"pass by value\" and \"pass by reference\" concepts when it comes to function arguments in Python?**\n",
        "\n",
        "Ans: In Python, the concept of \"pass by value\" and \"pass by reference\" applies to how arguments are passed to functions.\n",
        "\n",
        "\"Pass by value\": In this concept, the value of the argument is copied and passed to the function. Any modifications made to the argument within the function do not affect the original value outside the function. In Python, primitive data types such as integers, floats, booleans, and strings are passed by value.\n",
        "\n",
        "\"Pass by reference\": In this concept, instead of copying the value, a reference to the memory location of the argument is passed to the function. Any modifications made to the argument within the function will affect the original value outside the function. In Python, complex data types such as lists, dictionaries, and objects are passed by reference."
      ],
      "metadata": {
        "id": "PII9M1V15FxF"
      }
    },
    {
      "cell_type": "markdown",
      "source": [
        "**Q6.Create a function that can intake integer or decimal value and perform various mathematical operations: logarithmic, exponential, power (base 2), and square root**"
      ],
      "metadata": {
        "id": "grBLvuoV5XYs"
      }
    },
    {
      "cell_type": "code",
      "source": [
        "import math\n",
        "\n",
        "def mathematical_operations(value):\n",
        "  \"\"\"Performs mathematical operations on a value.\"\"\"\n",
        "  log_value = math.log10(value)\n",
        "  exp_value = math.exp(value)\n",
        "  power_value = 2 ** value\n",
        "  sqrt_value = math.sqrt(value)\n",
        "\n",
        "  return log_value, exp_value, power_value, sqrt_value\n",
        "\n",
        "\n",
        "print(mathematical_operations(10))\n"
      ],
      "metadata": {
        "colab": {
          "base_uri": "https://localhost:8080/"
        },
        "id": "tyNxIrYC4oiB",
        "outputId": "3b4951fe-a6a3-4871-b7e2-48a8149b6d21"
      },
      "execution_count": 8,
      "outputs": [
        {
          "output_type": "stream",
          "name": "stdout",
          "text": [
            "(1.0, 22026.465794806718, 1024, 3.1622776601683795)\n"
          ]
        }
      ]
    },
    {
      "cell_type": "markdown",
      "source": [
        "**Q7.Create a function that takes a full name as an argument and returns the first name and last name.**"
      ],
      "metadata": {
        "id": "jo2nDmVO5kSX"
      }
    },
    {
      "cell_type": "code",
      "source": [
        "def get_name(full_name):\n",
        "\n",
        "  first_name, last_name = full_name.split(\" \", 1)\n",
        "\n",
        "  return first_name, last_name\n",
        "\n",
        "\n",
        "print(get_name(\"Aditya Shrivastava\"))\n"
      ],
      "metadata": {
        "colab": {
          "base_uri": "https://localhost:8080/"
        },
        "id": "54vAlEje5eMg",
        "outputId": "2c310c50-24a4-4f76-8863-d485098c74cc"
      },
      "execution_count": 9,
      "outputs": [
        {
          "output_type": "stream",
          "name": "stdout",
          "text": [
            "('Aditya', 'Shrivastava')\n"
          ]
        }
      ]
    },
    {
      "cell_type": "code",
      "source": [],
      "metadata": {
        "id": "wERPyftS5sWi"
      },
      "execution_count": null,
      "outputs": []
    }
  ]
}