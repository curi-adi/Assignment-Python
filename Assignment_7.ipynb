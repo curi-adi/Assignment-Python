{
  "nbformat": 4,
  "nbformat_minor": 0,
  "metadata": {
    "colab": {
      "provenance": []
    },
    "kernelspec": {
      "name": "python3",
      "display_name": "Python 3"
    },
    "language_info": {
      "name": "python"
    }
  },
  "cells": [
    {
      "cell_type": "markdown",
      "source": [
        "Q1. Here's the code to create two int type variables, perform addition, subtraction, division, and multiplication, and then print the results:\n"
      ],
      "metadata": {
        "id": "31TpWCSRpnYD"
      }
    },
    {
      "cell_type": "code",
      "source": [
        "# Create variables\n",
        "first_variable = 5\n",
        "second_variable = 3\n",
        "\n",
        "# Perform calculations\n",
        "addition = first_variable + second_variable\n",
        "subtraction = first_variable - second_variable\n",
        "multiplication = first_variable * second_variable\n",
        "division = first_variable / second_variable\n",
        "\n",
        "# Print the results\n",
        "print(f\"First variable is {first_variable} & second variable is {second_variable}.\")\n",
        "print(f\"Addition: {first_variable} + {second_variable} = {addition}\")\n",
        "print(f\"Subtraction: {first_variable} - {second_variable} = {subtraction}\")\n",
        "print(f\"Multiplication: {first_variable} * {second_variable} = {multiplication}\")\n",
        "print(f\"Division: {first_variable} / {second_variable} = {division}\")\n"
      ],
      "metadata": {
        "colab": {
          "base_uri": "https://localhost:8080/"
        },
        "id": "WGajFHVspsHw",
        "outputId": "0c65b629-dd74-4526-cee9-e4da6787a686"
      },
      "execution_count": 1,
      "outputs": [
        {
          "output_type": "stream",
          "name": "stdout",
          "text": [
            "First variable is 5 & second variable is 3.\n",
            "Addition: 5 + 3 = 8\n",
            "Subtraction: 5 - 3 = 2\n",
            "Multiplication: 5 * 3 = 15\n",
            "Division: 5 / 3 = 1.6666666666666667\n"
          ]
        }
      ]
    },
    {
      "cell_type": "markdown",
      "source": [
        "Q2. The difference between the following operators is as follows:\n",
        "(i) / and //:\n",
        "\n",
        "\n",
        "\n",
        "The / operator performs floating-point division and returns the quotient as a float.\n",
        "\n",
        "The // operator performs integer division and returns the quotient as an integer (floor division). It discards the decimal part of the quotient.\n",
        "(ii) ** and ^:\n",
        "\n",
        "\n",
        "The ** operator is used for exponentiation. It raises the left operand to the power of the right operand.\n",
        "\n",
        "\n",
        "The ^ operator is the bitwise XOR operator, used for performing bitwise exclusive OR operation on two integers"
      ],
      "metadata": {
        "id": "o-FjQ91RpnUX"
      }
    },
    {
      "cell_type": "markdown",
      "source": [
        "Q3. The logical operators in Python are:\n",
        "\n",
        "and: Returns True if both operands are True.\n",
        "\n",
        "or: Returns True if at least one of the operands is True.\n",
        "\n",
        "not: Returns the opposite of the operand's logical value."
      ],
      "metadata": {
        "id": "zqWRcCScp6N7"
      }
    },
    {
      "cell_type": "markdown",
      "source": [
        "Q4. Right shift (>>) and left shift (<<) operators:\n",
        "\n",
        "\n",
        "\n",
        "Right shift (>>): Shifts the bits of a number to the right by the specified number of positions. It effectively divides the number by 2 for each position shifted to the right. The rightmost bits are discarded, and zeros are added on the left.\n",
        "\n",
        "\n",
        "Example: x = 8 >> 2 shifts the bits of 8 (binary 1000) two positions to the right, resulting in 2 (binary 10).\n",
        "\n",
        "\n",
        "Left shift (<<): Shifts the bits of a number to the left by the specified number of positions. It effectively multiplies the number by 2 for each position shifted to the left. Zeros are added on the right.\n",
        "\n",
        "\n",
        "Example: x = 2 << 3 shifts the bits of 2 (binary 10) three positions to the left, resulting in 16 (binary 10000)."
      ],
      "metadata": {
        "id": "kMviAZIgp6Le"
      }
    },
    {
      "cell_type": "markdown",
      "source": [
        "Q5. Here's an example code to check if 10 is present in a list containing int type data:"
      ],
      "metadata": {
        "id": "jZvxrgZIpnRR"
      }
    },
    {
      "cell_type": "code",
      "execution_count": 2,
      "metadata": {
        "colab": {
          "base_uri": "https://localhost:8080/"
        },
        "id": "SqkYehNdpimV",
        "outputId": "e519ea59-af8f-407d-c7e3-ee060bcbaed9"
      },
      "outputs": [
        {
          "output_type": "stream",
          "name": "stdout",
          "text": [
            "10 is present in the list.\n"
          ]
        }
      ],
      "source": [
        "my_list = [5, 8, 3, 10, 12, 7, 9, 15, 6, 1, 4, 11, 14, 2, 13]\n",
        "\n",
        "if 10 in my_list:\n",
        "    print(\"10 is present in the list.\")\n",
        "else:\n",
        "    print(\"10 is not present in the list.\")\n"
      ]
    },
    {
      "cell_type": "code",
      "source": [],
      "metadata": {
        "id": "YvhevSvsqJCU"
      },
      "execution_count": null,
      "outputs": []
    }
  ]
}