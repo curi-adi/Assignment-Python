{
  "nbformat": 4,
  "nbformat_minor": 0,
  "metadata": {
    "colab": {
      "provenance": []
    },
    "kernelspec": {
      "name": "python3",
      "display_name": "Python 3"
    },
    "language_info": {
      "name": "python"
    }
  },
  "cells": [
    {
      "cell_type": "markdown",
      "source": [
        "Question 1: What are the two values of the Boolean data type? How do you write them?\n",
        "\n",
        "Answer: The two values of the Boolean data type are True and False. They are written as True and False."
      ],
      "metadata": {
        "id": "_l1yrnV9LtUX"
      }
    },
    {
      "cell_type": "markdown",
      "source": [
        "Question 2: What are the three different types of Boolean operators?\n",
        "\n",
        "Answer: The three different types of Boolean operators are:\n",
        "\n",
        "AND\n",
        "OR\n",
        "NOT"
      ],
      "metadata": {
        "id": "i4d2HbDPLyXG"
      }
    },
    {
      "cell_type": "markdown",
      "source": [
        "Question 3: Make a list of each Boolean operator's truth tables (i.e. every possible combination of Boolean values for the operator and what it evaluate ).\n",
        "\n",
        "Answer: Here is a list of each Boolean operator's truth tables:\n",
        "\n",
        "True and  True = True\n",
        "\n",
        "True and  False = False\n",
        "\n",
        "False and True = False\n",
        "\n",
        "True or True = True\n",
        "\n",
        "True or False  = True\n",
        "\n",
        "False or True = True\n",
        "\n",
        "False or False  = False\n",
        "\n",
        "not True = False\n",
        "\n",
        "not False = True\n"
      ],
      "metadata": {
        "id": "fu3y605-L4p0"
      }
    },
    {
      "cell_type": "markdown",
      "source": [
        "Question 4: What are the values of the following expressions?\n",
        "\n",
        "(5 > 4) and (3 == 5)\n",
        "not (5 > 4)\n",
        "(5 > 4) or (3 == 5)\n",
        "not ((5 > 4) or (3 == 5))\n",
        "(True and True) and (True == False)\n",
        "(not False) or (not True)\n",
        "\n",
        "Answer: The values of the following expressions are:\n",
        "\n",
        "Expression\t        Value\n",
        "(5 > 4) and (3 == 5) -->\tFalse\n",
        "\n",
        "not (5 > 4)\t--> False\n",
        "\n",
        "(5 > 4) or (3 == 5)\t--> True\n",
        "\n",
        "not ((5 > 4) or (3 == 5))\t--> True\n",
        "\n",
        "(True and True) and (True == False)\t--> False\n",
        "\n",
        "(not False) or (not True)\t--> True"
      ],
      "metadata": {
        "id": "BJb3uJN1M4cz"
      }
    },
    {
      "cell_type": "markdown",
      "source": [
        "Question 5: What are the six comparison operators?"
      ],
      "metadata": {
        "id": "QXan7imLNZmQ"
      }
    },
    {
      "cell_type": "code",
      "source": [
        "# Answer:\n",
        "\"\"\"\n",
        "\n",
        "Equal to ==\n",
        "Not Equal to != \n",
        "Less than < \n",
        "Greater than >\n",
        "Less than or equal to <=\n",
        "Greater than or equal to >=\n",
        "\n",
        "\"\"\""
      ],
      "metadata": {
        "colab": {
          "base_uri": "https://localhost:8080/",
          "height": 35
        },
        "id": "V73KQCf0NnuV",
        "outputId": "38194b62-b12a-4050-915e-e9d886b87a98"
      },
      "execution_count": 1,
      "outputs": [
        {
          "output_type": "execute_result",
          "data": {
            "text/plain": [
              "'\\n\\nEqual to ==\\nNot Equal to != \\nLess than < \\nGreater than >\\nLess than or equal to <=\\nGreater than or equal to >=\\n\\n'"
            ],
            "application/vnd.google.colaboratory.intrinsic+json": {
              "type": "string"
            }
          },
          "metadata": {},
          "execution_count": 1
        }
      ]
    },
    {
      "cell_type": "markdown",
      "source": [
        "\n",
        "Sure, here are the questions and answers again:\n",
        "\n",
        "Question 1: What are the two values of the Boolean data type? How do you write them?\n",
        "\n",
        "Answer: The two values of the Boolean data type are True and False. They are written as True and False.\n",
        "\n",
        "Question 2: What are the three different types of Boolean operators?\n",
        "\n",
        "Answer: The three different types of Boolean operators are:\n",
        "\n",
        "AND\n",
        "OR\n",
        "NOT\n",
        "Question 3: Make a list of each Boolean operator's truth tables (i.e. every possible combination of Boolean values for the operator and what it evaluate ).\n",
        "\n",
        "Answer: Here is a list of each Boolean operator's truth tables:\n",
        "\n",
        "Operator\tTruth Table\n",
        "AND\tTrue and True is True, True and False is False, False and True is False, and False and False is False.\n",
        "OR\tTrue or True is True, True or False is True, False or True is True, and False or False is False.\n",
        "NOT\tNOT True is False, and NOT False is True.\n",
        "Question 4: What are the values of the following expressions?\n",
        "\n",
        "(5 > 4) and (3 == 5)\n",
        "not (5 > 4)\n",
        "(5 > 4) or (3 == 5)\n",
        "not ((5 > 4) or (3 == 5))\n",
        "(True and True) and (True == False)\n",
        "(not False) or (not True)\n",
        "\n",
        "Answer: The values of the following expressions are:\n",
        "\n",
        "Expression\tValue\n",
        "(5 > 4) and (3 == 5)\tFalse\n",
        "not (5 > 4)\tFalse\n",
        "(5 > 4) or (3 == 5)\tTrue\n",
        "not ((5 > 4) or (3 == 5))\tTrue\n",
        "(True and True) and (True == False)\tFalse\n",
        "(not False) or (not True)\tTrue\n",
        "Question 5: What are the six comparison operators?\n",
        "\n",
        "Answer: The six comparison operators are:\n",
        "\n",
        "==\n",
        "!=\n",
        "<\n",
        ">\n",
        "<=\n",
        ">=\n",
        "\n",
        "\n",
        "Question 6: How do you tell the difference between the equal to and assignment operators? Describe a condition and when you would use one.\n",
        "\n",
        "Answer: The equal to operator == compares two values and returns True if they are equal, and False if they are not equal. The assignment operator = assigns a value to a variable.\n",
        "\n",
        "A condition is a statement that can be evaluated to be True or False. You would use an assignment operator when you want to store a value in a variable. For example, the following code assigns the value 10 to the variable spam:\n",
        "\n",
        "\n"
      ],
      "metadata": {
        "id": "yUWGh-h1N6BR"
      }
    },
    {
      "cell_type": "code",
      "source": [
        "spam = 10\n",
        "\n",
        "#The following code compares the values of spam and 10 and prints True if they are equal and False if they are not equal:\n",
        "\n",
        "\n",
        "if spam == 10:\n",
        "\n",
        "    print(\"True\")\n",
        "else:\n",
        "\n",
        "    print(\"False\")"
      ],
      "metadata": {
        "colab": {
          "base_uri": "https://localhost:8080/"
        },
        "id": "widdVcPCOJXp",
        "outputId": "669ed0c9-1491-45ef-a211-ddf4047e7c0c"
      },
      "execution_count": 2,
      "outputs": [
        {
          "output_type": "stream",
          "name": "stdout",
          "text": [
            "True\n"
          ]
        }
      ]
    },
    {
      "cell_type": "markdown",
      "source": [
        "Question 7: Identify the three blocks in this code:\n",
        "\n",
        "spam = 0\n",
        "\n",
        "if spam == 10:\n",
        "\n",
        "print(\"eggs\")\n",
        "\n",
        "if spam > 5:\n",
        "\n",
        "print(\"bacon\")\n",
        "\n",
        "else:\n",
        "\n",
        "print(\"ham\")\n",
        "\n",
        "print(\"spam\")\n",
        "\n",
        "print(\"spam\")\n",
        "\n",
        "Answer: The three blocks in the code are:\n",
        "\n",
        "The if spam == 10: block\n",
        "\n",
        "The if spam > 5: block\n",
        "\n",
        "The else: block"
      ],
      "metadata": {
        "id": "K8JhBoD8OcLQ"
      }
    },
    {
      "cell_type": "markdown",
      "source": [
        "Question 8: Write code that prints Hello if 1 is stored in spam, prints Howdy if 2 is stored in spam, and prints Greetings! if anything else is stored in spam.\n"
      ],
      "metadata": {
        "id": "sZRQIq9rOqai"
      }
    },
    {
      "cell_type": "code",
      "source": [
        "spam = int(input(\"Enter a number: \"))\n",
        "\n",
        "if spam == 1:\n",
        "    print(\"Hello\")\n",
        "elif spam == 2:\n",
        "    print(\"Howdy\")\n",
        "else:\n",
        "    print(\"Greetings!\")\n"
      ],
      "metadata": {
        "colab": {
          "base_uri": "https://localhost:8080/"
        },
        "id": "JL1OOu_qMcCF",
        "outputId": "fa61678b-0a2f-4c69-8039-a489718d1820"
      },
      "execution_count": 4,
      "outputs": [
        {
          "output_type": "stream",
          "name": "stdout",
          "text": [
            "Enter a number: 10\n",
            "Greetings!\n"
          ]
        }
      ]
    },
    {
      "cell_type": "markdown",
      "source": [
        "Q9.If your programme is stuck in an endless loop, what keys you’ll press?\n",
        "\n",
        "ANS: You can press `Ctrl+C` to stop an endless loop."
      ],
      "metadata": {
        "id": "vHb-P2HsO9QN"
      }
    },
    {
      "cell_type": "markdown",
      "source": [
        "Q10. How can you tell the difference between break and continue?\n",
        "\n",
        "ANS : break terminates the current loop, while continue skips the rest of the current iteration of the loop and goes on to the next iteration."
      ],
      "metadata": {
        "id": "DToS9yHnPM9-"
      }
    },
    {
      "cell_type": "markdown",
      "source": [
        "Q11. In a for loop, what is the difference between range(10), range(0, 10), and range(0, 10, 1)?\n",
        "\n",
        "ANS: range(10) creates a list of numbers from 0 to 9, range(0, 10) creates a list of numbers from 0 to 9, and range(0, 10, 1) creates a list of numbers from 0 to 9, incrementing by 1 each time."
      ],
      "metadata": {
        "id": "ahvVzI0dPXe9"
      }
    },
    {
      "cell_type": "markdown",
      "source": [
        "Q12. Write a short program that prints the numbers 1 to 10 using a for loop. Then write an equivalent\n",
        "program that prints the numbers 1 to 10 using a while loop."
      ],
      "metadata": {
        "id": "qG1jdKy2QlwU"
      }
    },
    {
      "cell_type": "code",
      "execution_count": 6,
      "metadata": {
        "colab": {
          "base_uri": "https://localhost:8080/"
        },
        "id": "sVQSrJrxLnzH",
        "outputId": "dc5a97b8-b63d-47f6-b392-6340f3344ffc"
      },
      "outputs": [
        {
          "output_type": "stream",
          "name": "stdout",
          "text": [
            "1\n",
            "2\n",
            "3\n",
            "4\n",
            "5\n",
            "6\n",
            "7\n",
            "8\n",
            "9\n",
            "10\n",
            "# Using a while loop\n",
            "1\n",
            "2\n",
            "3\n",
            "4\n",
            "5\n",
            "6\n",
            "7\n",
            "8\n",
            "9\n",
            "10\n"
          ]
        }
      ],
      "source": [
        "# Using a for loop\n",
        "for i in range(1, 11):\n",
        "    print(i)\n",
        "\n",
        "# Using a while loop\n",
        "print('# Using a while loop')\n",
        "i = 1\n",
        "\n",
        "while i <= 10:\n",
        "    print(i)\n",
        "    i += 1\n"
      ]
    },
    {
      "cell_type": "markdown",
      "source": [
        "13. If you had a function named bacon() inside a module named spam, how would you call it after\n",
        "importing spam?"
      ],
      "metadata": {
        "id": "tvGxCX7PQ4UU"
      }
    },
    {
      "cell_type": "code",
      "source": [
        "import spam\n",
        "\n",
        "spam.bacon()\n"
      ],
      "metadata": {
        "id": "rrFrH_AMQsCk"
      },
      "execution_count": null,
      "outputs": []
    },
    {
      "cell_type": "code",
      "source": [],
      "metadata": {
        "id": "EZjH1_8pQ7xY"
      },
      "execution_count": null,
      "outputs": []
    }
  ]
}