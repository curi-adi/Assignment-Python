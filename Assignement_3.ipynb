{
  "nbformat": 4,
  "nbformat_minor": 0,
  "metadata": {
    "colab": {
      "provenance": []
    },
    "kernelspec": {
      "name": "python3",
      "display_name": "Python 3"
    },
    "language_info": {
      "name": "python"
    }
  },
  "cells": [
    {
      "cell_type": "markdown",
      "source": [
        "Q1: Why are functions advantageous to have in your programs?\n",
        "\n",
        "A: Functions provide several advantages in programs:\n",
        "\n",
        "Reusability: Functions allow you to write a block of code that can be used multiple times in different parts of your program.\n",
        "\n",
        "Modularity: Functions break down the program into smaller, manageable parts, making the code more organized and easier to understand.\n",
        "\n",
        "Abstraction: Functions hide the implementation details and provide a high-level interface, allowing you to focus on the functionality without worrying about how it is achieved.\n",
        "\n",
        "Code maintenance: By using functions, you can make changes or fix bugs in one place, and those changes will be reflected wherever the function is called."
      ],
      "metadata": {
        "id": "5BiyWH7yTTIY"
      }
    },
    {
      "cell_type": "markdown",
      "source": [
        "Q2: When does the code in a function run: when it's specified or when it's called?\n",
        "\n",
        "A: The code in a function runs when it is called. Defining a function only creates a blueprint or a template for the code inside the function. To execute the code and perform the operations defined within the function, you need to call the function by its name.\n",
        "\n"
      ],
      "metadata": {
        "id": "rRO9wybeTaUs"
      }
    },
    {
      "cell_type": "markdown",
      "source": [
        "Q: What statement creates a function?\n",
        "\n",
        "A: The \"def\" statement is used to create a function in Python. It is followed by the function name, parentheses for optional parameters, and a colon. The indented block of code below the def statement defines the function's body."
      ],
      "metadata": {
        "id": "FMbGBNStTlBN"
      }
    },
    {
      "cell_type": "markdown",
      "source": [
        "Q4: What is the difference between a function and a function call?\n",
        "\n",
        "A: A function is a named block of code that performs a specific task. It is defined using the \"def\" statement and contains the code that needs to be executed when the function is called. On the other hand, a function call is the act of invoking or executing a function by using its name followed by parentheses. The function call causes the code inside the function to run and perform its designated operations."
      ],
      "metadata": {
        "id": "V-SMXrXgTpan"
      }
    },
    {
      "cell_type": "markdown",
      "source": [
        "Q5: How many global scopes are there in a Python program? How many local scopes?\n",
        "\n",
        "A: In a Python program, there is only one global scope, which represents the top-level of the program. It exists throughout the entire program and any variables defined outside of functions belong to this global scope. On the other hand, local scopes are created whenever a function is called. Each function call creates a new local scope, which is independent and separate from other local scopes. Variables defined within a function belong to its local scope and are not accessible outside of it."
      ],
      "metadata": {
        "id": "FHBTQunET2o2"
      }
    },
    {
      "cell_type": "markdown",
      "source": [
        "Q6: What happens to variables in a local scope when the function call returns?\n",
        "\n",
        "A: When a function call returns, the local scope and all the variables defined within it are destroyed. The values assigned to those variables are no longer accessible or retained. After the function call returns, the program continues execution from where the function was called, and any variables created within the local scope become inaccessible."
      ],
      "metadata": {
        "id": "oL9PGAr0T--J"
      }
    },
    {
      "cell_type": "markdown",
      "source": [
        "Q7: What is the concept of a return value? Is it possible to have a return value in an expression?\n",
        "\n",
        "A: The return value is the value that a function can send back to the caller after it has finished executing. It is specified using the \"return\" statement followed by the value or expression that should be returned. The return value allows the function to provide the result of its computation or any other relevant information to the caller. Yes, it is possible to have a return value in an expression. For example, you can directly use the return value of a function within another expression or assign it to a variable."
      ],
      "metadata": {
        "id": "L_ltiF0EUIAO"
      }
    },
    {
      "cell_type": "markdown",
      "source": [
        "Q8: If a function does not have a return statement, what is the return value of a call to that function?\n",
        "\n",
        "A: If a function does not have a return statement, or if the return statement is without any value, the function call will still return a value. In such cases, the return value is \"None\". None is a special object in Python that represents the absence of a value. When a function executes without encountering a return statement, it implicitly returns None."
      ],
      "metadata": {
        "id": "NyyV0yy3Udhz"
      }
    },
    {
      "cell_type": "markdown",
      "source": [
        "Q9: How do you make a function variable refer to the global variable?\n",
        "\n",
        "A: To make a function variable refer to the global variable, you need to use the \"global\" keyword before the variable name within the function. By doing so, you inform Python that the variable being used is a global variable, rather than creating a new local variable with the same name. This allows you to access and modify the global variable from within the function."
      ],
      "metadata": {
        "id": "1uYuWNjiUmsn"
      }
    },
    {
      "cell_type": "markdown",
      "source": [
        "Q10: What is the data type of None?\n",
        "\n",
        "A: The data type of None is \"NoneType\". It is a special data type in Python that represents the absence of a value or a null value. None is commonly used to indicate the absence of a return value or as a default value for optional function arguments."
      ],
      "metadata": {
        "id": "_TpCFItpUsYx"
      }
    },
    {
      "cell_type": "markdown",
      "source": [
        "Q11: What does the sentence \"import areallyourpetsnamederic\" do?\n",
        "\n",
        "\n",
        "A: The sentence \"import areallyourpetsnamederic\" is not a valid Python import statement. In Python, the import statement is used to bring modules or packages into the current program's namespace, allowing you to access their functionality. The statement should typically include the name of a valid module or package that you want to import."
      ],
      "metadata": {
        "id": "y41Od94wU9mR"
      }
    },
    {
      "cell_type": "markdown",
      "source": [
        "Q12: If you had a bacon() feature in a spam module, what would you call it after importing spam?\n",
        "\n",
        "A: After importing the spam module, you can call the bacon() feature using `spam.bacon()`\n",
        "\n",
        " This allows you to access the bacon() function or any other attributes or functions defined within the spam module."
      ],
      "metadata": {
        "id": "lFY-6ZkqVDw6"
      }
    },
    {
      "cell_type": "markdown",
      "source": [
        "Q13: What can you do to save a program from crashing if it encounters an error?\n",
        "\n",
        "A: To save a program from crashing if it encounters an error, you can use error handling techniques such as exception handling. Placing the potentially problematic code inside a try block allows you to catch and handle any exceptions that occur. By using the try-except statement, you can specify the actions to be taken if an exception is raised, preventing the program from abruptly terminating. Additionally, logging errors and providing informative error messages can help in identifying and resolving issues."
      ],
      "metadata": {
        "id": "EAp_bwYyVUm8"
      }
    },
    {
      "cell_type": "markdown",
      "source": [
        "Q14: What is the purpose of the try clause? What is the purpose of the except clause?\n",
        "\n",
        "A: The try clause is used in exception handling to enclose the code that may raise an exception. It allows you to test a block of code for errors without the program terminating. If an exception occurs within the try block, the execution immediately jumps to the except clause.\n",
        "\n",
        "The except clause is used to define the actions or code that should be executed when a specific exception occurs. It specifies the type of exception to catch, allowing you to handle the exception gracefully. By providing one or more except clauses, you can define different exception handlers for different types of exceptions. If no matching exception occurs, the except block is skipped, and the program continues execution after the try-except statement."
      ],
      "metadata": {
        "id": "psyds3CsVlVu"
      }
    },
    {
      "cell_type": "code",
      "execution_count": null,
      "metadata": {
        "id": "atnTV_EZTKYp"
      },
      "outputs": [],
      "source": []
    }
  ]
}