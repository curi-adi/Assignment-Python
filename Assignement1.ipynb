{
  "nbformat": 4,
  "nbformat_minor": 0,
  "metadata": {
    "colab": {
      "provenance": []
    },
    "kernelspec": {
      "name": "python3",
      "display_name": "Python 3"
    },
    "language_info": {
      "name": "python"
    }
  },
  "cells": [
    {
      "cell_type": "markdown",
      "source": [
        "## ASSIGNMENT 1 IN PYTHON"
      ],
      "metadata": {
        "id": "C4mmhv4MGFvf"
      }
    },
    {
      "cell_type": "markdown",
      "source": [
        "QUE 1:1. In the below elements which of them are values or an expression? eg:- values can be\n",
        "integer or string and expressions will be mathematical operators.\n",
        "*\n",
        "&#39;hello&#39;\n",
        "-87.8\n",
        "-\n",
        "/\n",
        "+\n",
        "\n",
        "\n",
        "\n",
        "ANS : 1. The following are values:\n",
        "    * `'hello'`\n",
        "    * `-87.8`\n",
        "    * `6`\n",
        "\n",
        "The following are expressions:\n",
        "    * `-`\n",
        "    * `/`\n",
        "    * `+`"
      ],
      "metadata": {
        "id": "PCB4HrFzGRMO"
      }
    },
    {
      "cell_type": "markdown",
      "source": [
        "QUE2. What is the difference between string and variable?\n",
        "\n",
        "\n",
        "ANS 2. A string is a sequence of characters, while a variable is a name that can be used to refer to a value."
      ],
      "metadata": {
        "id": "ttSdi9A3Gii2"
      }
    },
    {
      "cell_type": "markdown",
      "source": [
        "QUE3. Describe three different data types.\n",
        "\n",
        "ANS3. Three different data types are:\n",
        "\n",
        "    * Integers    \n",
        "    * Floating-point numbers\n",
        "    * Strings"
      ],
      "metadata": {
        "id": "LoksrbnoGxbn"
      }
    },
    {
      "cell_type": "markdown",
      "source": [
        "QUE4. What is an expression made up of? What do all expressions do?\n",
        "\n",
        "ANS4. An expression is made up of operators and operands. Operators perform operations on operands, and the result of the operation is the value of the expression.\n",
        "\n",
        "All expressions do something. Some expressions, such as `5 + 2`, simply return a value. Other expressions, such as `if x > 10: print('x is greater than 10')`, do something more complex, such as printing a message to the console.\n"
      ],
      "metadata": {
        "id": "aT04vk9TG__3"
      }
    },
    {
      "cell_type": "markdown",
      "source": [
        "QUE5. This assignment statements, like spam = 10. What is the difference between an\n",
        "expression and a statement?\n",
        "\n",
        "ANS5. An assignment statement assigns a value to a variable. The difference between an expression and a statement is that an expression always returns a value, while a statement does not.\n"
      ],
      "metadata": {
        "id": "UWDN00QAG_43"
      }
    },
    {
      "cell_type": "markdown",
      "source": [
        "QUE6. After running the following code, what does the variable bacon contain?\n",
        "bacon = 22\n",
        "bacon + 1\n",
        "\n",
        "ANS6. After running the following code, the variable `bacon` will contain the value `23`.\n",
        "\n",
        "```\n",
        "bacon = 22\n",
        "bacon + 1\n",
        "```\n"
      ],
      "metadata": {
        "id": "PErMTPnUG_3j"
      }
    },
    {
      "cell_type": "markdown",
      "source": [
        "QUE7:7. What should the values of the following two terms be?\n",
        "\n",
        "&#39;spam&#39; + &#39;spamspam&#39;\n",
        "&#39;spam&#39; * 3\n",
        "\n",
        "ANS7. The values of the following two terms should be:\n",
        "\n",
        "    * `'spam' + 'spamspam'` = `'spamspamspam'`\n",
        "    * `'spam' * 3` = `'spamspamspam'`\n",
        "\n"
      ],
      "metadata": {
        "id": "an4V0Qm3H6zf"
      }
    },
    {
      "cell_type": "markdown",
      "source": [
        "QUE8. Why is eggs a valid variable name while 100 is invalid?\n",
        "\n",
        "ANS8. The variable name `eggs` is valid because it starts with a letter and contains only letters, numbers, and underscores. The variable name `100` is invalid because it starts with a number.\n",
        "\n",
        "\n"
      ],
      "metadata": {
        "id": "y0JNFlg9IVHZ"
      }
    },
    {
      "cell_type": "markdown",
      "source": [
        "QUE9. What three functions can be used to get the integer, floating-point number, or string\n",
        "version of a value?\n",
        "\n",
        "ANS9. The three functions that can be used to get the integer, floating-point number, or string version of a value are:\n",
        "\n",
        "    * int()\n",
        "    * float()\n",
        "    * str()"
      ],
      "metadata": {
        "id": "V3ulnnZ7Ifvy"
      }
    },
    {
      "cell_type": "markdown",
      "source": [
        "QUE10. Why does this expression cause an error? How can you fix it?\n",
        "&#39;I have eaten &#39; + 99 + &#39; burritos.&#39;\n",
        "\n",
        "ANS10. The expression `'I have eaten ' + 99 + ' burritos.'` causes an error because you cannot concatenate a string and an integer. To fix the error, you can convert the integer to a string using the `str()` function. The following code will print the correct output:\n",
        "\n",
        "\n"
      ],
      "metadata": {
        "id": "ssLN42c3JRSP"
      }
    },
    {
      "cell_type": "code",
      "execution_count": 2,
      "metadata": {
        "colab": {
          "base_uri": "https://localhost:8080/"
        },
        "id": "pIxMPYOpFrIQ",
        "outputId": "cefabac3-48c6-489f-a740-b539a19806e6"
      },
      "outputs": [
        {
          "output_type": "stream",
          "name": "stdout",
          "text": [
            "I have eaten 99 burritos.\n"
          ]
        }
      ],
      "source": [
        "print('I have eaten ' + str(99) + ' burritos.')"
      ]
    },
    {
      "cell_type": "code",
      "source": [],
      "metadata": {
        "id": "OgkCxdk2GDwI"
      },
      "execution_count": null,
      "outputs": []
    }
  ]
}