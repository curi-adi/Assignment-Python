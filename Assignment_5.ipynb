{
  "nbformat": 4,
  "nbformat_minor": 0,
  "metadata": {
    "colab": {
      "provenance": []
    },
    "kernelspec": {
      "name": "python3",
      "display_name": "Python 3"
    },
    "language_info": {
      "name": "python"
    }
  },
  "cells": [
    {
      "cell_type": "code",
      "execution_count": null,
      "metadata": {
        "id": "sn57IbWhkivr"
      },
      "outputs": [],
      "source": []
    },
    {
      "cell_type": "markdown",
      "source": [],
      "metadata": {
        "id": "QnhGhbcMkomn"
      }
    },
    {
      "cell_type": "markdown",
      "source": [],
      "metadata": {
        "id": "mfckubzXkoqM"
      }
    },
    {
      "cell_type": "markdown",
      "source": [],
      "metadata": {
        "id": "xqRYRIWWkosu"
      }
    },
    {
      "cell_type": "markdown",
      "source": [
        "Q1: What does an empty dictionary's code look like?\n",
        "\n",
        "\n",
        "A: An empty dictionary in Python is represented by a pair of curly braces {}. The code for an empty dictionary looks like this:"
      ],
      "metadata": {
        "id": "om9HfF8GkovY"
      }
    },
    {
      "cell_type": "code",
      "source": [
        "my_dict = {}\n"
      ],
      "metadata": {
        "id": "P1x-Vrj8ksgm"
      },
      "execution_count": 1,
      "outputs": []
    },
    {
      "cell_type": "markdown",
      "source": [
        "Q2: What is the value of a dictionary value with the key 'foo' and the value 42?\n",
        "\n",
        "\n",
        "A: The value of a dictionary with the key 'foo' and the value 42 would look like this:"
      ],
      "metadata": {
        "id": "hicQJSZZksT1"
      }
    },
    {
      "cell_type": "code",
      "source": [
        "{'foo': 42}\n"
      ],
      "metadata": {
        "colab": {
          "base_uri": "https://localhost:8080/"
        },
        "id": "gUtvDrspk4TE",
        "outputId": "a049c0d8-5020-4392-d5d6-256f36744035"
      },
      "execution_count": 2,
      "outputs": [
        {
          "output_type": "execute_result",
          "data": {
            "text/plain": [
              "{'foo': 42}"
            ]
          },
          "metadata": {},
          "execution_count": 2
        }
      ]
    },
    {
      "cell_type": "markdown",
      "source": [
        "Q3: What is the most significant distinction between a dictionary and a list?\n",
        "A: The most significant distinction between a dictionary and a list is how they store and access values:\n",
        "\n",
        "Dictionary: A dictionary stores values in key-value pairs, where each value is associated with a unique key. It allows accessing values based on their corresponding keys, providing fast lookup based on the keys.\n",
        "\n",
        "\n",
        "List: A list stores an ordered collection of values, allowing access\n",
        " based on the position or index of the elements in the list. It provides fast access to elements by index but may require iterating through the list to find a specific value."
      ],
      "metadata": {
        "id": "2NAmC4BgksQX"
      }
    },
    {
      "cell_type": "markdown",
      "source": [
        "Q4: What happens if you try to access spam['foo'] if spam is {'bar': 100}?\n",
        "\n",
        "\n",
        "A: If you try to access spam['foo'] when spam is {'bar': 100}, it will raise a KeyError. Since 'foo' is not a key present in the dictionary, trying to access it directly will result in an error.\n",
        "\n"
      ],
      "metadata": {
        "id": "gyPp4IpakoyI"
      }
    },
    {
      "cell_type": "markdown",
      "source": [
        "Q5: If a dictionary is stored in spam, what is the difference between the expressions 'cat' in spam and 'cat' in spam.keys()?\n",
        "\n",
        "\n",
        "A: The expression 'cat' in spam checks whether the key 'cat' is present in the dictionary as one of the keys. It returns True if the key 'cat' exists in the dictionary, and False otherwise.\n",
        "\n",
        "The expression 'cat' in spam.keys() is essentially the same. \n",
        "It checks if 'cat' is present in the list of keys returned by the keys() method of the dictionary. It also returns True if 'cat' exists as a key in the dictionary, and False otherwise. Both expressions are equivalent in this case."
      ],
      "metadata": {
        "id": "xLstN-0mko1a"
      }
    },
    {
      "cell_type": "markdown",
      "source": [
        "Q6. If a dictionary is stored in spam, what is the difference between the expressions 'cat' in spam and 'cat' in spam.values()?\n",
        "\n",
        "\n",
        "A: The expression 'cat' in spam checks if 'cat' exists as one of the keys in the dictionary. It returns True if 'cat' is a key in the dictionary, and False otherwise.\n",
        "\n",
        "On the other hand, the expression 'cat' in spam.values() checks if 'cat' exists as one of the values in the dictionary. It returns True if 'cat' is a value in the dictionary, and False otherwise."
      ],
      "metadata": {
        "id": "YkejiCbjko4d"
      }
    },
    {
      "cell_type": "markdown",
      "source": [
        "Q7: What is a shortcut for the following code? if 'color' not in spam: spam['color'] = 'black'\n",
        "\n",
        "A: A shortcut for the given code can be achieved using the setdefault() method of the dictionary"
      ],
      "metadata": {
        "id": "G8iwwLrmko7O"
      }
    },
    {
      "cell_type": "markdown",
      "source": [
        "spam.setdefault('color', 'black')\n"
      ],
      "metadata": {
        "id": "Hq0UG7GHko_G"
      }
    },
    {
      "cell_type": "markdown",
      "source": [
        "Q8: How do you \"pretty print\" dictionary values using which module and function?\n",
        "\n",
        "\n",
        "A: To \"pretty print\" dictionary values in a formatted and more readable way, you can use the pprint module and its pprint() function"
      ],
      "metadata": {
        "id": "rE236rp6kpCy"
      }
    },
    {
      "cell_type": "markdown",
      "source": [],
      "metadata": {
        "id": "x9v4aOt5kpFl"
      }
    },
    {
      "cell_type": "markdown",
      "source": [],
      "metadata": {
        "id": "vJSxtHtrkpIh"
      }
    },
    {
      "cell_type": "markdown",
      "source": [],
      "metadata": {
        "id": "-NZ25OcCkpLU"
      }
    },
    {
      "cell_type": "markdown",
      "source": [],
      "metadata": {
        "id": "-zzW1iUSkpN6"
      }
    }
  ]
}